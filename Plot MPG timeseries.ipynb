{
 "cells": [
  {
   "cell_type": "code",
   "execution_count": null,
   "metadata": {
    "collapsed": false
   },
   "outputs": [],
   "source": [
    "%matplotlib inline\n",
    "import pandas as pd\n",
    "import matplotlib.pyplot as plt\n",
    "import matplotlib.dates as dates"
   ]
  },
  {
   "cell_type": "code",
   "execution_count": null,
   "metadata": {
    "collapsed": false
   },
   "outputs": [],
   "source": [
    "h_c1 = '#FFB300'\n",
    "h_c2 = '#5E0DAC'\n",
    "h_c3 = '#00A779'\n",
    "a    = 0.4"
   ]
  },
  {
   "cell_type": "code",
   "execution_count": null,
   "metadata": {
    "collapsed": false
   },
   "outputs": [],
   "source": [
    "fig, tsax= plt.subplots()\n",
    "barax= tsax.twinx()\n",
    "data = pd.read_csv('mpg.csv', skipinitialspace=True,index_col='Date')\n",
    "data['Trip Miles'].plot(kind='bar', align= 'center', ax=barax, color=h_c1, alpha=a, edgecolor='w', ylim=(0,400), use_index=False)\n",
    "barax.set_ylabel('Miles')\n",
    "tsax.set_ylabel('Miles/Gallon')\n",
    "data['MPG'].plot(ax=tsax, color=h_c3, linewidth=2,ylim=(0,40), use_index=True, label='Calculated MPG')\n",
    "data['MPG-D'].plot(ax=tsax, color=h_c2, linewidth=2, linestyle='--', use_index=True, label='Dash MPG')\n",
    "barax.grid(False)\n",
    "tsax.grid(False)\n",
    "barax.legend(loc=1, frameon=False)\n",
    "tsax.legend(loc=2, frameon=False)"
   ]
  },
  {
   "cell_type": "code",
   "execution_count": null,
   "metadata": {
    "collapsed": false
   },
   "outputs": [],
   "source": []
  },
  {
   "cell_type": "code",
   "execution_count": null,
   "metadata": {
    "collapsed": false
   },
   "outputs": [],
   "source": []
  }
 ],
 "metadata": {},
 "nbformat": 4,
 "nbformat_minor": 0
}
